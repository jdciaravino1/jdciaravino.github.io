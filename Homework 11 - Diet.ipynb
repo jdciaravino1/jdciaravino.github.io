{
 "cells": [
  {
   "cell_type": "markdown",
   "metadata": {},
   "source": [
    "Question 15.2\n",
    "\n",
    "In the videos, we saw the “diet problem”. (The diet problem is one of the first large-scale optimization\n",
    "problems to be studied in practice. Back in the 1930’s and 40’s, the Army wanted to meet the nutritional\n",
    "requirements of its soldiers while minimizing the cost.) In this homework you get to solve a diet problem with real data. The data is given in the file diet.xls. \n",
    "\n",
    "1.\tFormulate an optimization model (a linear program) to find the cheapest diet that satisfies the maximum and minimum daily nutrition constraints, and solve it using PuLP.  Turn in your code and the solution. (The optimal solution should be a diet of air-popped popcorn, poached eggs, oranges, raw iceberg lettuce, raw celery, and frozen broccoli. UGH!)\n",
    "2.\tPlease add to your model the following constraints (which might require adding more variables) and solve the new model:\n",
    "a.\tIf a food is selected, then a minimum of 1/10 serving must be chosen. (Hint: now you will need two variables for each food i: whether it is chosen, and how much is part of the diet. You’ll also need to write a constraint to link them.)\n",
    "b.\tMany people dislike celery and frozen broccoli. So at most one, but not both, can be selected.\n",
    "c.\tTo get day-to-day variety in protein, at least 3 kinds of meat/poultry/fish/eggs must be selected. [If something is ambiguous (e.g., should bean-and-bacon soup be considered meat?), just call it whatever you think is appropriate – I want you to learn how to write this type of constraint, but I don’t really care whether we agree on how to classify foods!]\n",
    "\n",
    "If you want to see what a more full-sized problem would look like, try solving your models for the file diet_large.xls, which is a low-cholesterol diet model (rather than minimizing cost, the goal is to minimize cholesterol intake).  I don’t know anyone who’d want to eat this diet – the optimal solution includes dried chrysanthemum garland, raw beluga whale flipper, freeze-dried parsley, etc. – which shows why it’s necessary to add additional constraints beyond the basic ones we saw in the video!\n",
    "\t[Note: there are many optimal solutions, all with zero cholesterol, so you might get a different one.  It probably won’t be much more appetizing than mine.]\n",
    "\n"
   ]
  },
  {
   "cell_type": "markdown",
   "metadata": {},
   "source": [
    "Sources Used:\n",
    "1. https://pypi.org/project/PuLP/\n",
    "2. https://coin-or.github.io/pulp/\n",
    "3. BlueJeans Office Hours Recordings"
   ]
  },
  {
   "cell_type": "code",
   "execution_count": 1,
   "metadata": {},
   "outputs": [],
   "source": [
    "# Load libraries\n",
    "import pulp\n",
    "from pulp import *\n",
    "import pandas as pd\n",
    "import numpy as np\n",
    "\n",
    "solver_list = listSolvers()\n",
    "#Check pulp works properly. Uncomment code to run this\n",
    "#pulp.pulpTestAll()"
   ]
  },
  {
   "cell_type": "code",
   "execution_count": 2,
   "metadata": {},
   "outputs": [
    {
     "data": {
      "text/html": [
       "<div>\n",
       "<style scoped>\n",
       "    .dataframe tbody tr th:only-of-type {\n",
       "        vertical-align: middle;\n",
       "    }\n",
       "\n",
       "    .dataframe tbody tr th {\n",
       "        vertical-align: top;\n",
       "    }\n",
       "\n",
       "    .dataframe thead th {\n",
       "        text-align: right;\n",
       "    }\n",
       "</style>\n",
       "<table border=\"1\" class=\"dataframe\">\n",
       "  <thead>\n",
       "    <tr style=\"text-align: right;\">\n",
       "      <th></th>\n",
       "      <th>Foods</th>\n",
       "      <th>Price/ Serving</th>\n",
       "      <th>Serving Size</th>\n",
       "      <th>Calories</th>\n",
       "      <th>Cholesterol mg</th>\n",
       "      <th>Total_Fat g</th>\n",
       "      <th>Sodium mg</th>\n",
       "      <th>Carbohydrates g</th>\n",
       "      <th>Dietary_Fiber g</th>\n",
       "      <th>Protein g</th>\n",
       "      <th>Vit_A IU</th>\n",
       "      <th>Vit_C IU</th>\n",
       "      <th>Calcium mg</th>\n",
       "      <th>Iron mg</th>\n",
       "    </tr>\n",
       "  </thead>\n",
       "  <tbody>\n",
       "    <tr>\n",
       "      <th>57</th>\n",
       "      <td>Splt Pea&amp;Hamsoup</td>\n",
       "      <td>0.67</td>\n",
       "      <td>1 C (8 Fl Oz)</td>\n",
       "      <td>184.8</td>\n",
       "      <td>7.2</td>\n",
       "      <td>4.0</td>\n",
       "      <td>964.8</td>\n",
       "      <td>26.8</td>\n",
       "      <td>4.1</td>\n",
       "      <td>11.1</td>\n",
       "      <td>4872.0</td>\n",
       "      <td>7.0</td>\n",
       "      <td>33.6</td>\n",
       "      <td>2.1</td>\n",
       "    </tr>\n",
       "    <tr>\n",
       "      <th>58</th>\n",
       "      <td>Vegetbeef Soup</td>\n",
       "      <td>0.71</td>\n",
       "      <td>1 C (8 Fl Oz)</td>\n",
       "      <td>158.1</td>\n",
       "      <td>10.0</td>\n",
       "      <td>3.8</td>\n",
       "      <td>1915.1</td>\n",
       "      <td>20.4</td>\n",
       "      <td>4.0</td>\n",
       "      <td>11.2</td>\n",
       "      <td>3785.1</td>\n",
       "      <td>4.8</td>\n",
       "      <td>32.6</td>\n",
       "      <td>2.2</td>\n",
       "    </tr>\n",
       "    <tr>\n",
       "      <th>59</th>\n",
       "      <td>Neweng Clamchwd</td>\n",
       "      <td>0.75</td>\n",
       "      <td>1 C (8 Fl Oz)</td>\n",
       "      <td>175.7</td>\n",
       "      <td>10.0</td>\n",
       "      <td>5.0</td>\n",
       "      <td>1864.9</td>\n",
       "      <td>21.8</td>\n",
       "      <td>1.5</td>\n",
       "      <td>10.9</td>\n",
       "      <td>20.1</td>\n",
       "      <td>4.8</td>\n",
       "      <td>82.8</td>\n",
       "      <td>2.8</td>\n",
       "    </tr>\n",
       "    <tr>\n",
       "      <th>60</th>\n",
       "      <td>Tomato Soup</td>\n",
       "      <td>0.39</td>\n",
       "      <td>1 C (8 Fl Oz)</td>\n",
       "      <td>170.7</td>\n",
       "      <td>0.0</td>\n",
       "      <td>3.8</td>\n",
       "      <td>1744.4</td>\n",
       "      <td>33.2</td>\n",
       "      <td>1.0</td>\n",
       "      <td>4.1</td>\n",
       "      <td>1393.0</td>\n",
       "      <td>133.0</td>\n",
       "      <td>27.6</td>\n",
       "      <td>3.5</td>\n",
       "    </tr>\n",
       "    <tr>\n",
       "      <th>61</th>\n",
       "      <td>New E Clamchwd,W/Mlk</td>\n",
       "      <td>0.99</td>\n",
       "      <td>1 C (8 Fl Oz)</td>\n",
       "      <td>163.7</td>\n",
       "      <td>22.3</td>\n",
       "      <td>6.6</td>\n",
       "      <td>992.0</td>\n",
       "      <td>16.6</td>\n",
       "      <td>1.5</td>\n",
       "      <td>9.5</td>\n",
       "      <td>163.7</td>\n",
       "      <td>3.5</td>\n",
       "      <td>186.0</td>\n",
       "      <td>1.5</td>\n",
       "    </tr>\n",
       "    <tr>\n",
       "      <th>62</th>\n",
       "      <td>Crm Mshrm Soup,W/Mlk</td>\n",
       "      <td>0.65</td>\n",
       "      <td>1 C (8 Fl Oz)</td>\n",
       "      <td>203.4</td>\n",
       "      <td>19.8</td>\n",
       "      <td>13.6</td>\n",
       "      <td>1076.3</td>\n",
       "      <td>15.0</td>\n",
       "      <td>0.5</td>\n",
       "      <td>6.1</td>\n",
       "      <td>153.8</td>\n",
       "      <td>2.2</td>\n",
       "      <td>178.6</td>\n",
       "      <td>0.6</td>\n",
       "    </tr>\n",
       "    <tr>\n",
       "      <th>63</th>\n",
       "      <td>Beanbacn Soup,W/Watr</td>\n",
       "      <td>0.67</td>\n",
       "      <td>1 C (8 Fl Oz)</td>\n",
       "      <td>172.0</td>\n",
       "      <td>2.5</td>\n",
       "      <td>5.9</td>\n",
       "      <td>951.3</td>\n",
       "      <td>22.8</td>\n",
       "      <td>8.6</td>\n",
       "      <td>7.9</td>\n",
       "      <td>888.0</td>\n",
       "      <td>1.5</td>\n",
       "      <td>81.0</td>\n",
       "      <td>2.0</td>\n",
       "    </tr>\n",
       "    <tr>\n",
       "      <th>64</th>\n",
       "      <td>NaN</td>\n",
       "      <td>NaN</td>\n",
       "      <td>NaN</td>\n",
       "      <td>NaN</td>\n",
       "      <td>NaN</td>\n",
       "      <td>NaN</td>\n",
       "      <td>NaN</td>\n",
       "      <td>NaN</td>\n",
       "      <td>NaN</td>\n",
       "      <td>NaN</td>\n",
       "      <td>NaN</td>\n",
       "      <td>NaN</td>\n",
       "      <td>NaN</td>\n",
       "      <td>NaN</td>\n",
       "    </tr>\n",
       "    <tr>\n",
       "      <th>65</th>\n",
       "      <td>NaN</td>\n",
       "      <td>NaN</td>\n",
       "      <td>Minimum daily intake</td>\n",
       "      <td>1500.0</td>\n",
       "      <td>30.0</td>\n",
       "      <td>20.0</td>\n",
       "      <td>800.0</td>\n",
       "      <td>130.0</td>\n",
       "      <td>125.0</td>\n",
       "      <td>60.0</td>\n",
       "      <td>1000.0</td>\n",
       "      <td>400.0</td>\n",
       "      <td>700.0</td>\n",
       "      <td>10.0</td>\n",
       "    </tr>\n",
       "    <tr>\n",
       "      <th>66</th>\n",
       "      <td>NaN</td>\n",
       "      <td>NaN</td>\n",
       "      <td>Maximum daily intake</td>\n",
       "      <td>2500.0</td>\n",
       "      <td>240.0</td>\n",
       "      <td>70.0</td>\n",
       "      <td>2000.0</td>\n",
       "      <td>450.0</td>\n",
       "      <td>250.0</td>\n",
       "      <td>100.0</td>\n",
       "      <td>10000.0</td>\n",
       "      <td>5000.0</td>\n",
       "      <td>1500.0</td>\n",
       "      <td>40.0</td>\n",
       "    </tr>\n",
       "  </tbody>\n",
       "</table>\n",
       "</div>"
      ],
      "text/plain": [
       "                   Foods  Price/ Serving          Serving Size  Calories  \\\n",
       "57      Splt Pea&Hamsoup            0.67         1 C (8 Fl Oz)     184.8   \n",
       "58        Vegetbeef Soup            0.71         1 C (8 Fl Oz)     158.1   \n",
       "59       Neweng Clamchwd            0.75         1 C (8 Fl Oz)     175.7   \n",
       "60           Tomato Soup            0.39         1 C (8 Fl Oz)     170.7   \n",
       "61  New E Clamchwd,W/Mlk            0.99         1 C (8 Fl Oz)     163.7   \n",
       "62  Crm Mshrm Soup,W/Mlk            0.65         1 C (8 Fl Oz)     203.4   \n",
       "63  Beanbacn Soup,W/Watr            0.67         1 C (8 Fl Oz)     172.0   \n",
       "64                   NaN             NaN                   NaN       NaN   \n",
       "65                   NaN             NaN  Minimum daily intake    1500.0   \n",
       "66                   NaN             NaN  Maximum daily intake    2500.0   \n",
       "\n",
       "    Cholesterol mg  Total_Fat g  Sodium mg  Carbohydrates g  Dietary_Fiber g  \\\n",
       "57             7.2          4.0      964.8             26.8              4.1   \n",
       "58            10.0          3.8     1915.1             20.4              4.0   \n",
       "59            10.0          5.0     1864.9             21.8              1.5   \n",
       "60             0.0          3.8     1744.4             33.2              1.0   \n",
       "61            22.3          6.6      992.0             16.6              1.5   \n",
       "62            19.8         13.6     1076.3             15.0              0.5   \n",
       "63             2.5          5.9      951.3             22.8              8.6   \n",
       "64             NaN          NaN        NaN              NaN              NaN   \n",
       "65            30.0         20.0      800.0            130.0            125.0   \n",
       "66           240.0         70.0     2000.0            450.0            250.0   \n",
       "\n",
       "    Protein g  Vit_A IU  Vit_C IU  Calcium mg  Iron mg  \n",
       "57       11.1    4872.0       7.0        33.6      2.1  \n",
       "58       11.2    3785.1       4.8        32.6      2.2  \n",
       "59       10.9      20.1       4.8        82.8      2.8  \n",
       "60        4.1    1393.0     133.0        27.6      3.5  \n",
       "61        9.5     163.7       3.5       186.0      1.5  \n",
       "62        6.1     153.8       2.2       178.6      0.6  \n",
       "63        7.9     888.0       1.5        81.0      2.0  \n",
       "64        NaN       NaN       NaN         NaN      NaN  \n",
       "65       60.0    1000.0     400.0       700.0     10.0  \n",
       "66      100.0   10000.0    5000.0      1500.0     40.0  "
      ]
     },
     "execution_count": 2,
     "metadata": {},
     "output_type": "execute_result"
    }
   ],
   "source": [
    "#load dataframe\n",
    "df = pd.read_excel('diet.xls',header=0)\n",
    "df.tail(10)"
   ]
  },
  {
   "cell_type": "code",
   "execution_count": 3,
   "metadata": {},
   "outputs": [],
   "source": [
    "#drop the last 3 rows\n",
    "df.drop(df.tail(3).index,inplace=True)"
   ]
  },
  {
   "cell_type": "code",
   "execution_count": 4,
   "metadata": {},
   "outputs": [
    {
     "data": {
      "text/html": [
       "<div>\n",
       "<style scoped>\n",
       "    .dataframe tbody tr th:only-of-type {\n",
       "        vertical-align: middle;\n",
       "    }\n",
       "\n",
       "    .dataframe tbody tr th {\n",
       "        vertical-align: top;\n",
       "    }\n",
       "\n",
       "    .dataframe thead th {\n",
       "        text-align: right;\n",
       "    }\n",
       "</style>\n",
       "<table border=\"1\" class=\"dataframe\">\n",
       "  <thead>\n",
       "    <tr style=\"text-align: right;\">\n",
       "      <th></th>\n",
       "      <th>Foods</th>\n",
       "      <th>Price/ Serving</th>\n",
       "      <th>Serving Size</th>\n",
       "      <th>Calories</th>\n",
       "      <th>Cholesterol mg</th>\n",
       "      <th>Total_Fat g</th>\n",
       "      <th>Sodium mg</th>\n",
       "      <th>Carbohydrates g</th>\n",
       "      <th>Dietary_Fiber g</th>\n",
       "      <th>Protein g</th>\n",
       "      <th>Vit_A IU</th>\n",
       "      <th>Vit_C IU</th>\n",
       "      <th>Calcium mg</th>\n",
       "      <th>Iron mg</th>\n",
       "    </tr>\n",
       "  </thead>\n",
       "  <tbody>\n",
       "    <tr>\n",
       "      <th>54</th>\n",
       "      <td>Pretzels</td>\n",
       "      <td>0.12</td>\n",
       "      <td>1 Oz</td>\n",
       "      <td>108.0</td>\n",
       "      <td>0.0</td>\n",
       "      <td>1.0</td>\n",
       "      <td>486.2</td>\n",
       "      <td>22.5</td>\n",
       "      <td>0.9</td>\n",
       "      <td>2.6</td>\n",
       "      <td>0.0</td>\n",
       "      <td>0.0</td>\n",
       "      <td>10.2</td>\n",
       "      <td>1.2</td>\n",
       "    </tr>\n",
       "    <tr>\n",
       "      <th>55</th>\n",
       "      <td>Tortilla Chip</td>\n",
       "      <td>0.19</td>\n",
       "      <td>1 Oz</td>\n",
       "      <td>142.0</td>\n",
       "      <td>0.0</td>\n",
       "      <td>7.4</td>\n",
       "      <td>149.7</td>\n",
       "      <td>17.8</td>\n",
       "      <td>1.8</td>\n",
       "      <td>2.0</td>\n",
       "      <td>55.6</td>\n",
       "      <td>0.0</td>\n",
       "      <td>43.7</td>\n",
       "      <td>0.4</td>\n",
       "    </tr>\n",
       "    <tr>\n",
       "      <th>56</th>\n",
       "      <td>Chicknoodl Soup</td>\n",
       "      <td>0.39</td>\n",
       "      <td>1 C (8 Fl Oz)</td>\n",
       "      <td>150.1</td>\n",
       "      <td>12.3</td>\n",
       "      <td>4.6</td>\n",
       "      <td>1862.2</td>\n",
       "      <td>18.7</td>\n",
       "      <td>1.5</td>\n",
       "      <td>7.9</td>\n",
       "      <td>1308.7</td>\n",
       "      <td>0.0</td>\n",
       "      <td>27.1</td>\n",
       "      <td>1.5</td>\n",
       "    </tr>\n",
       "    <tr>\n",
       "      <th>57</th>\n",
       "      <td>Splt Pea&amp;Hamsoup</td>\n",
       "      <td>0.67</td>\n",
       "      <td>1 C (8 Fl Oz)</td>\n",
       "      <td>184.8</td>\n",
       "      <td>7.2</td>\n",
       "      <td>4.0</td>\n",
       "      <td>964.8</td>\n",
       "      <td>26.8</td>\n",
       "      <td>4.1</td>\n",
       "      <td>11.1</td>\n",
       "      <td>4872.0</td>\n",
       "      <td>7.0</td>\n",
       "      <td>33.6</td>\n",
       "      <td>2.1</td>\n",
       "    </tr>\n",
       "    <tr>\n",
       "      <th>58</th>\n",
       "      <td>Vegetbeef Soup</td>\n",
       "      <td>0.71</td>\n",
       "      <td>1 C (8 Fl Oz)</td>\n",
       "      <td>158.1</td>\n",
       "      <td>10.0</td>\n",
       "      <td>3.8</td>\n",
       "      <td>1915.1</td>\n",
       "      <td>20.4</td>\n",
       "      <td>4.0</td>\n",
       "      <td>11.2</td>\n",
       "      <td>3785.1</td>\n",
       "      <td>4.8</td>\n",
       "      <td>32.6</td>\n",
       "      <td>2.2</td>\n",
       "    </tr>\n",
       "    <tr>\n",
       "      <th>59</th>\n",
       "      <td>Neweng Clamchwd</td>\n",
       "      <td>0.75</td>\n",
       "      <td>1 C (8 Fl Oz)</td>\n",
       "      <td>175.7</td>\n",
       "      <td>10.0</td>\n",
       "      <td>5.0</td>\n",
       "      <td>1864.9</td>\n",
       "      <td>21.8</td>\n",
       "      <td>1.5</td>\n",
       "      <td>10.9</td>\n",
       "      <td>20.1</td>\n",
       "      <td>4.8</td>\n",
       "      <td>82.8</td>\n",
       "      <td>2.8</td>\n",
       "    </tr>\n",
       "    <tr>\n",
       "      <th>60</th>\n",
       "      <td>Tomato Soup</td>\n",
       "      <td>0.39</td>\n",
       "      <td>1 C (8 Fl Oz)</td>\n",
       "      <td>170.7</td>\n",
       "      <td>0.0</td>\n",
       "      <td>3.8</td>\n",
       "      <td>1744.4</td>\n",
       "      <td>33.2</td>\n",
       "      <td>1.0</td>\n",
       "      <td>4.1</td>\n",
       "      <td>1393.0</td>\n",
       "      <td>133.0</td>\n",
       "      <td>27.6</td>\n",
       "      <td>3.5</td>\n",
       "    </tr>\n",
       "    <tr>\n",
       "      <th>61</th>\n",
       "      <td>New E Clamchwd,W/Mlk</td>\n",
       "      <td>0.99</td>\n",
       "      <td>1 C (8 Fl Oz)</td>\n",
       "      <td>163.7</td>\n",
       "      <td>22.3</td>\n",
       "      <td>6.6</td>\n",
       "      <td>992.0</td>\n",
       "      <td>16.6</td>\n",
       "      <td>1.5</td>\n",
       "      <td>9.5</td>\n",
       "      <td>163.7</td>\n",
       "      <td>3.5</td>\n",
       "      <td>186.0</td>\n",
       "      <td>1.5</td>\n",
       "    </tr>\n",
       "    <tr>\n",
       "      <th>62</th>\n",
       "      <td>Crm Mshrm Soup,W/Mlk</td>\n",
       "      <td>0.65</td>\n",
       "      <td>1 C (8 Fl Oz)</td>\n",
       "      <td>203.4</td>\n",
       "      <td>19.8</td>\n",
       "      <td>13.6</td>\n",
       "      <td>1076.3</td>\n",
       "      <td>15.0</td>\n",
       "      <td>0.5</td>\n",
       "      <td>6.1</td>\n",
       "      <td>153.8</td>\n",
       "      <td>2.2</td>\n",
       "      <td>178.6</td>\n",
       "      <td>0.6</td>\n",
       "    </tr>\n",
       "    <tr>\n",
       "      <th>63</th>\n",
       "      <td>Beanbacn Soup,W/Watr</td>\n",
       "      <td>0.67</td>\n",
       "      <td>1 C (8 Fl Oz)</td>\n",
       "      <td>172.0</td>\n",
       "      <td>2.5</td>\n",
       "      <td>5.9</td>\n",
       "      <td>951.3</td>\n",
       "      <td>22.8</td>\n",
       "      <td>8.6</td>\n",
       "      <td>7.9</td>\n",
       "      <td>888.0</td>\n",
       "      <td>1.5</td>\n",
       "      <td>81.0</td>\n",
       "      <td>2.0</td>\n",
       "    </tr>\n",
       "  </tbody>\n",
       "</table>\n",
       "</div>"
      ],
      "text/plain": [
       "                   Foods  Price/ Serving   Serving Size  Calories  \\\n",
       "54              Pretzels            0.12           1 Oz     108.0   \n",
       "55         Tortilla Chip            0.19           1 Oz     142.0   \n",
       "56       Chicknoodl Soup            0.39  1 C (8 Fl Oz)     150.1   \n",
       "57      Splt Pea&Hamsoup            0.67  1 C (8 Fl Oz)     184.8   \n",
       "58        Vegetbeef Soup            0.71  1 C (8 Fl Oz)     158.1   \n",
       "59       Neweng Clamchwd            0.75  1 C (8 Fl Oz)     175.7   \n",
       "60           Tomato Soup            0.39  1 C (8 Fl Oz)     170.7   \n",
       "61  New E Clamchwd,W/Mlk            0.99  1 C (8 Fl Oz)     163.7   \n",
       "62  Crm Mshrm Soup,W/Mlk            0.65  1 C (8 Fl Oz)     203.4   \n",
       "63  Beanbacn Soup,W/Watr            0.67  1 C (8 Fl Oz)     172.0   \n",
       "\n",
       "    Cholesterol mg  Total_Fat g  Sodium mg  Carbohydrates g  Dietary_Fiber g  \\\n",
       "54             0.0          1.0      486.2             22.5              0.9   \n",
       "55             0.0          7.4      149.7             17.8              1.8   \n",
       "56            12.3          4.6     1862.2             18.7              1.5   \n",
       "57             7.2          4.0      964.8             26.8              4.1   \n",
       "58            10.0          3.8     1915.1             20.4              4.0   \n",
       "59            10.0          5.0     1864.9             21.8              1.5   \n",
       "60             0.0          3.8     1744.4             33.2              1.0   \n",
       "61            22.3          6.6      992.0             16.6              1.5   \n",
       "62            19.8         13.6     1076.3             15.0              0.5   \n",
       "63             2.5          5.9      951.3             22.8              8.6   \n",
       "\n",
       "    Protein g  Vit_A IU  Vit_C IU  Calcium mg  Iron mg  \n",
       "54        2.6       0.0       0.0        10.2      1.2  \n",
       "55        2.0      55.6       0.0        43.7      0.4  \n",
       "56        7.9    1308.7       0.0        27.1      1.5  \n",
       "57       11.1    4872.0       7.0        33.6      2.1  \n",
       "58       11.2    3785.1       4.8        32.6      2.2  \n",
       "59       10.9      20.1       4.8        82.8      2.8  \n",
       "60        4.1    1393.0     133.0        27.6      3.5  \n",
       "61        9.5     163.7       3.5       186.0      1.5  \n",
       "62        6.1     153.8       2.2       178.6      0.6  \n",
       "63        7.9     888.0       1.5        81.0      2.0  "
      ]
     },
     "execution_count": 4,
     "metadata": {},
     "output_type": "execute_result"
    }
   ],
   "source": [
    "df.tail(10)"
   ]
  },
  {
   "cell_type": "code",
   "execution_count": 5,
   "metadata": {},
   "outputs": [],
   "source": [
    "#create the optimization problem framework using PuLP method\n",
    "problem = LpProblem(\"Diet_Problem\", LpMinimize)"
   ]
  },
  {
   "cell_type": "code",
   "execution_count": 6,
   "metadata": {},
   "outputs": [],
   "source": [
    "#create list of foods\n",
    "foods = list(df['Foods'])"
   ]
  },
  {
   "cell_type": "code",
   "execution_count": 7,
   "metadata": {},
   "outputs": [],
   "source": [
    "#create dict of costs\n",
    "costs = dict(zip(foods,df['Price/ Serving']))"
   ]
  },
  {
   "cell_type": "code",
   "execution_count": 8,
   "metadata": {},
   "outputs": [],
   "source": [
    "#create dictionaries of other variables\n",
    "calories = dict(zip(foods,df['Calories']))\n",
    "cholesterol = dict(zip(foods,df['Cholesterol mg']))\n",
    "fat = dict(zip(foods,df['Total_Fat g']))\n",
    "sodium = dict(zip(foods,df['Sodium mg']))\n",
    "carbohydrates = dict(zip(foods,df['Carbohydrates g']))\n",
    "fiber = dict(zip(foods,df['Dietary_Fiber g']))\n",
    "protein = dict(zip(foods,df['Protein g']))\n",
    "vit_a = dict(zip(foods,df['Vit_A IU']))\n",
    "vit_c = dict(zip(foods,df['Vit_C IU']))\n",
    "calcium = dict(zip(foods,df['Calcium mg']))\n",
    "iron = dict(zip(foods,df['Iron mg']))"
   ]
  },
  {
   "cell_type": "code",
   "execution_count": 28,
   "metadata": {},
   "outputs": [
    {
     "data": {
      "text/plain": [
       "{'Frozen Broccoli': 73.8,\n",
       " 'Carrots,Raw': 23.7,\n",
       " 'Celery, Raw': 6.4,\n",
       " 'Frozen Corn': 72.2,\n",
       " 'Lettuce,Iceberg,Raw': 2.6,\n",
       " 'Peppers, Sweet, Raw': 20.0,\n",
       " 'Potatoes, Baked': 171.5,\n",
       " 'Tofu': 88.2,\n",
       " 'Roasted Chicken': 277.4,\n",
       " 'Spaghetti W/ Sauce': 358.2,\n",
       " 'Tomato,Red,Ripe,Raw': 25.8,\n",
       " 'Apple,Raw,W/Skin': 81.4,\n",
       " 'Banana': 104.9,\n",
       " 'Grapes': 15.1,\n",
       " 'Kiwifruit,Raw,Fresh': 46.4,\n",
       " 'Oranges': 61.6,\n",
       " 'Bagels': 78.0,\n",
       " 'Wheat Bread': 65.0,\n",
       " 'White Bread': 65.0,\n",
       " 'Oatmeal Cookies': 81.0,\n",
       " 'Apple Pie': 67.2,\n",
       " 'Chocolate Chip Cookies': 78.1,\n",
       " 'Butter,Regular': 35.8,\n",
       " 'Cheddar Cheese': 112.7,\n",
       " '3.3% Fat,Whole Milk': 149.9,\n",
       " '2% Lowfat Milk': 121.2,\n",
       " 'Skim Milk': 85.5,\n",
       " 'Poached Eggs': 74.5,\n",
       " 'Scrambled Eggs': 99.6,\n",
       " 'Bologna,Turkey': 56.4,\n",
       " 'Frankfurter, Beef': 141.8,\n",
       " 'Ham,Sliced,Extralean': 37.1,\n",
       " 'Kielbasa,Prk': 80.6,\n",
       " \"Cap'N Crunch\": 119.6,\n",
       " 'Cheerios': 111.0,\n",
       " \"Corn Flks, Kellogg'S\": 110.5,\n",
       " \"Raisin Brn, Kellg'S\": 115.1,\n",
       " 'Rice Krispies': 112.2,\n",
       " 'Special K': 110.8,\n",
       " 'Oatmeal': 145.1,\n",
       " 'Malt-O-Meal,Choc': 607.2,\n",
       " 'Pizza W/Pepperoni': 181.0,\n",
       " 'Taco': 369.4,\n",
       " 'Hamburger W/Toppings': 275.0,\n",
       " 'Hotdog, Plain': 242.1,\n",
       " 'Couscous': 100.8,\n",
       " 'White Rice': 102.7,\n",
       " 'Macaroni,Ckd': 98.7,\n",
       " 'Peanut Butter': 188.5,\n",
       " 'Pork': 710.8,\n",
       " 'Sardines in Oil': 49.9,\n",
       " 'White Tuna in Water': 115.6,\n",
       " 'Popcorn,Air-Popped': 108.3,\n",
       " 'Potato Chips,Bbqflvr': 139.2,\n",
       " 'Pretzels': 108.0,\n",
       " 'Tortilla Chip': 142.0,\n",
       " 'Chicknoodl Soup': 150.1,\n",
       " 'Splt Pea&Hamsoup': 184.8,\n",
       " 'Vegetbeef Soup': 158.1,\n",
       " 'Neweng Clamchwd': 175.7,\n",
       " 'Tomato Soup': 170.7,\n",
       " 'New E Clamchwd,W/Mlk': 163.7,\n",
       " 'Crm Mshrm Soup,W/Mlk': 203.4,\n",
       " 'Beanbacn Soup,W/Watr': 172.0}"
      ]
     },
     "execution_count": 28,
     "metadata": {},
     "output_type": "execute_result"
    }
   ],
   "source": [
    "calories"
   ]
  },
  {
   "cell_type": "code",
   "execution_count": 9,
   "metadata": {},
   "outputs": [
    {
     "name": "stdout",
     "output_type": "stream",
     "text": [
      "{'Frozen Broccoli': Food_Frozen_Broccoli, 'Carrots,Raw': Food_Carrots,Raw, 'Celery, Raw': Food_Celery,_Raw, 'Frozen Corn': Food_Frozen_Corn, 'Lettuce,Iceberg,Raw': Food_Lettuce,Iceberg,Raw, 'Peppers, Sweet, Raw': Food_Peppers,_Sweet,_Raw, 'Potatoes, Baked': Food_Potatoes,_Baked, 'Tofu': Food_Tofu, 'Roasted Chicken': Food_Roasted_Chicken, 'Spaghetti W/ Sauce': Food_Spaghetti_W__Sauce, 'Tomato,Red,Ripe,Raw': Food_Tomato,Red,Ripe,Raw, 'Apple,Raw,W/Skin': Food_Apple,Raw,W_Skin, 'Banana': Food_Banana, 'Grapes': Food_Grapes, 'Kiwifruit,Raw,Fresh': Food_Kiwifruit,Raw,Fresh, 'Oranges': Food_Oranges, 'Bagels': Food_Bagels, 'Wheat Bread': Food_Wheat_Bread, 'White Bread': Food_White_Bread, 'Oatmeal Cookies': Food_Oatmeal_Cookies, 'Apple Pie': Food_Apple_Pie, 'Chocolate Chip Cookies': Food_Chocolate_Chip_Cookies, 'Butter,Regular': Food_Butter,Regular, 'Cheddar Cheese': Food_Cheddar_Cheese, '3.3% Fat,Whole Milk': Food_3.3%_Fat,Whole_Milk, '2% Lowfat Milk': Food_2%_Lowfat_Milk, 'Skim Milk': Food_Skim_Milk, 'Poached Eggs': Food_Poached_Eggs, 'Scrambled Eggs': Food_Scrambled_Eggs, 'Bologna,Turkey': Food_Bologna,Turkey, 'Frankfurter, Beef': Food_Frankfurter,_Beef, 'Ham,Sliced,Extralean': Food_Ham,Sliced,Extralean, 'Kielbasa,Prk': Food_Kielbasa,Prk, \"Cap'N Crunch\": Food_Cap'N_Crunch, 'Cheerios': Food_Cheerios, \"Corn Flks, Kellogg'S\": Food_Corn_Flks,_Kellogg'S, \"Raisin Brn, Kellg'S\": Food_Raisin_Brn,_Kellg'S, 'Rice Krispies': Food_Rice_Krispies, 'Special K': Food_Special_K, 'Oatmeal': Food_Oatmeal, 'Malt-O-Meal,Choc': Food_Malt_O_Meal,Choc, 'Pizza W/Pepperoni': Food_Pizza_W_Pepperoni, 'Taco': Food_Taco, 'Hamburger W/Toppings': Food_Hamburger_W_Toppings, 'Hotdog, Plain': Food_Hotdog,_Plain, 'Couscous': Food_Couscous, 'White Rice': Food_White_Rice, 'Macaroni,Ckd': Food_Macaroni,Ckd, 'Peanut Butter': Food_Peanut_Butter, 'Pork': Food_Pork, 'Sardines in Oil': Food_Sardines_in_Oil, 'White Tuna in Water': Food_White_Tuna_in_Water, 'Popcorn,Air-Popped': Food_Popcorn,Air_Popped, 'Potato Chips,Bbqflvr': Food_Potato_Chips,Bbqflvr, 'Pretzels': Food_Pretzels, 'Tortilla Chip': Food_Tortilla_Chip, 'Chicknoodl Soup': Food_Chicknoodl_Soup, 'Splt Pea&Hamsoup': Food_Splt_Pea&Hamsoup, 'Vegetbeef Soup': Food_Vegetbeef_Soup, 'Neweng Clamchwd': Food_Neweng_Clamchwd, 'Tomato Soup': Food_Tomato_Soup, 'New E Clamchwd,W/Mlk': Food_New_E_Clamchwd,W_Mlk, 'Crm Mshrm Soup,W/Mlk': Food_Crm_Mshrm_Soup,W_Mlk, 'Beanbacn Soup,W/Watr': Food_Beanbacn_Soup,W_Watr}\n"
     ]
    }
   ],
   "source": [
    "#create our variables with a 0 lower bound and continuous\n",
    "\n",
    "#all food items must be at minimum 0 cannot go negative and are continuous variables\n",
    "amount_var = LpVariable.dicts(\"Food\",foods,lowBound = 0, cat='Continuous')\n",
    "print(amount_var)"
   ]
  },
  {
   "cell_type": "code",
   "execution_count": 10,
   "metadata": {},
   "outputs": [],
   "source": [
    "#define objective function\n",
    "problem += lpSum([costs[i]*amount_var[i] for i in foods])"
   ]
  },
  {
   "cell_type": "code",
   "execution_count": 11,
   "metadata": {},
   "outputs": [],
   "source": [
    "\n",
    "#calories\n",
    "problem += lpSum([calories[a] * amount_var[a] for a in foods]) >= 1500, \"Minimum Calories\"\n",
    "problem += lpSum([calories[a] * amount_var[a] for a in foods]) <= 2500, \"Maximum Calories\"\n",
    "\n",
    "#cholesterol\n",
    "problem += lpSum([cholesterol[a] * amount_var[a] for a in foods]) >= 30, \"Minimum cholesterol\"\n",
    "problem += lpSum([cholesterol[a] * amount_var[a] for a in foods]) <= 240, \"Maximum cholesterol\"\n",
    "\n",
    "#fat\n",
    "problem += lpSum([fat[a] * amount_var[a] for a in foods]) >= 20, \"Minimum fat\"\n",
    "problem += lpSum([fat[a] * amount_var[a] for a in foods]) <= 70, \"Maximum fat\"\n",
    "\n",
    "#sodium\n",
    "problem += lpSum([sodium[a] * amount_var[a] for a in foods]) >= 800, \"Minimum sodium\"\n",
    "problem += lpSum([sodium[a] * amount_var[a] for a in foods]) <= 2000, \"Maximum sodium\"\n",
    "\n",
    "#Carbohydrates\n",
    "problem += lpSum([carbohydrates[a] * amount_var[a] for a in foods]) >= 130, \"Minimum carbohydrates\"\n",
    "problem += lpSum([carbohydrates[a] * amount_var[a] for a in foods]) <= 450, \"Maximum carbohydrates\"\n",
    "\n",
    "#Dietary Fiber\n",
    "problem += lpSum([fiber[a] * amount_var[a] for a in foods]) >= 125, \"Minimum fiber\"\n",
    "problem += lpSum([fiber[a] * amount_var[a] for a in foods]) <= 250, \"Maximum fiber\"\n",
    "\n",
    "#Protein\n",
    "problem += lpSum([protein[a] * amount_var[a] for a in foods]) >= 60, \"Minimum protein\"\n",
    "problem += lpSum([protein[a] * amount_var[a] for a in foods]) <= 100, \"Maximum protein\"\n",
    "\n",
    "#Vit_A\n",
    "problem += lpSum([vit_a[a] * amount_var[a] for a in foods]) >= 1000, \"Minimum vit_a\"\n",
    "problem += lpSum([vit_a[a] * amount_var[a] for a in foods]) <= 10000, \"Maximum vit_a\"\n",
    "\n",
    "#VIt_C\n",
    "problem += lpSum([vit_c[a] * amount_var[a] for a in foods]) >= 400, \"Minimum vit_c\"\n",
    "problem += lpSum([vit_c[a] * amount_var[a] for a in foods]) <= 5000, \"Maximum vit_c\"\n",
    "\n",
    "#Calcium\n",
    "problem += lpSum([calcium[a] * amount_var[a] for a in foods]) >= 700, \"Minimum calcium\"\n",
    "problem += lpSum([calcium[a] * amount_var[a] for a in foods]) <= 1500, \"Maximum calcium\"\n",
    "\n",
    "#Iron\n",
    "problem += lpSum([iron[a] * amount_var[a] for a in foods]) >= 10, \"Minimum iron\"\n",
    "problem += lpSum([iron[a] * amount_var[a] for a in foods]) <= 40, \"Maximum iron\""
   ]
  },
  {
   "cell_type": "markdown",
   "metadata": {},
   "source": []
  },
  {
   "cell_type": "code",
   "execution_count": 12,
   "metadata": {},
   "outputs": [
    {
     "data": {
      "text/plain": [
       "1"
      ]
     },
     "execution_count": 12,
     "metadata": {},
     "output_type": "execute_result"
    }
   ],
   "source": [
    "problem.solve()"
   ]
  },
  {
   "cell_type": "code",
   "execution_count": 13,
   "metadata": {},
   "outputs": [
    {
     "name": "stdout",
     "output_type": "stream",
     "text": [
      "{'Food_2%_Lowfat_Milk': 0.0, 'Food_3.3%_Fat,Whole_Milk': 0.0, 'Food_Apple,Raw,W_Skin': 0.0, 'Food_Apple_Pie': 0.0, 'Food_Bagels': 0.0, 'Food_Banana': 0.0, 'Food_Beanbacn_Soup,W_Watr': 0.0, 'Food_Bologna,Turkey': 0.0, 'Food_Butter,Regular': 0.0, \"Food_Cap'N_Crunch\": 0.0, 'Food_Carrots,Raw': 0.0, 'Food_Celery,_Raw': 52.64371, 'Food_Cheddar_Cheese': 0.0, 'Food_Cheerios': 0.0, 'Food_Chicknoodl_Soup': 0.0, 'Food_Chocolate_Chip_Cookies': 0.0, \"Food_Corn_Flks,_Kellogg'S\": 0.0, 'Food_Couscous': 0.0, 'Food_Crm_Mshrm_Soup,W_Mlk': 0.0, 'Food_Frankfurter,_Beef': 0.0, 'Food_Frozen_Broccoli': 0.25960653, 'Food_Frozen_Corn': 0.0, 'Food_Grapes': 0.0, 'Food_Ham,Sliced,Extralean': 0.0, 'Food_Hamburger_W_Toppings': 0.0, 'Food_Hotdog,_Plain': 0.0, 'Food_Kielbasa,Prk': 0.0, 'Food_Kiwifruit,Raw,Fresh': 0.0, 'Food_Lettuce,Iceberg,Raw': 63.988506, 'Food_Macaroni,Ckd': 0.0, 'Food_Malt_O_Meal,Choc': 0.0, 'Food_New_E_Clamchwd,W_Mlk': 0.0, 'Food_Neweng_Clamchwd': 0.0, 'Food_Oatmeal': 0.0, 'Food_Oatmeal_Cookies': 0.0, 'Food_Oranges': 2.2929389, 'Food_Peanut_Butter': 0.0, 'Food_Peppers,_Sweet,_Raw': 0.0, 'Food_Pizza_W_Pepperoni': 0.0, 'Food_Poached_Eggs': 0.14184397, 'Food_Popcorn,Air_Popped': 13.869322, 'Food_Pork': 0.0, 'Food_Potato_Chips,Bbqflvr': 0.0, 'Food_Potatoes,_Baked': 0.0, 'Food_Pretzels': 0.0, \"Food_Raisin_Brn,_Kellg'S\": 0.0, 'Food_Rice_Krispies': 0.0, 'Food_Roasted_Chicken': 0.0, 'Food_Sardines_in_Oil': 0.0, 'Food_Scrambled_Eggs': 0.0, 'Food_Skim_Milk': 0.0, 'Food_Spaghetti_W__Sauce': 0.0, 'Food_Special_K': 0.0, 'Food_Splt_Pea&Hamsoup': 0.0, 'Food_Taco': 0.0, 'Food_Tofu': 0.0, 'Food_Tomato,Red,Ripe,Raw': 0.0, 'Food_Tomato_Soup': 0.0, 'Food_Tortilla_Chip': 0.0, 'Food_Vegetbeef_Soup': 0.0, 'Food_Wheat_Bread': 0.0, 'Food_White_Bread': 0.0, 'Food_White_Rice': 0.0, 'Food_White_Tuna_in_Water': 0.0}\n"
     ]
    }
   ],
   "source": [
    "varsDictionary = {}\n",
    "for v in problem.variables():\n",
    "    varsDictionary[v.name] = v.varValue\n",
    "    \n",
    "print(varsDictionary)"
   ]
  },
  {
   "cell_type": "code",
   "execution_count": 14,
   "metadata": {},
   "outputs": [
    {
     "name": "stdout",
     "output_type": "stream",
     "text": [
      "Status: Optimal\n"
     ]
    }
   ],
   "source": [
    "print(\"Status:\", LpStatus[problem.status])"
   ]
  },
  {
   "cell_type": "code",
   "execution_count": 15,
   "metadata": {},
   "outputs": [
    {
     "name": "stdout",
     "output_type": "stream",
     "text": [
      "{'Food_Celery,_Raw': 52.64371, 'Food_Frozen_Broccoli': 0.25960653, 'Food_Lettuce,Iceberg,Raw': 63.988506, 'Food_Oranges': 2.2929389, 'Food_Poached_Eggs': 0.14184397, 'Food_Popcorn,Air_Popped': 13.869322}\n"
     ]
    }
   ],
   "source": [
    "varsDictionary = {}\n",
    "for v in problem.variables():\n",
    "    if v.varValue > 0:\n",
    "        varsDictionary[v.name] = v.varValue\n",
    "    \n",
    "print(varsDictionary)"
   ]
  },
  {
   "cell_type": "markdown",
   "metadata": {},
   "source": [
    "As outlined in the problem statement, Celery, Broccoli, Iceberg Lettuce, Oranges, Poached Egges, and Popcorn comprise our optimal diet."
   ]
  },
  {
   "cell_type": "markdown",
   "metadata": {},
   "source": [
    "For part 2, of this problem. I need to add a few additional constraints and a new variable. Mainly\n",
    "1) If food is selected, a minimum of 1/10 of a service needs to be added\n",
    "2) Cannot have celery and broccoli together\n",
    "3) At least 3 kinds of meat must be chosen\n",
    "\n",
    "I'm going to re-use my code from above and just add extra code throughout. The objective function is the same and the same constraints are used, only additional ones are added"
   ]
  },
  {
   "cell_type": "markdown",
   "metadata": {},
   "source": [
    "### Part 2"
   ]
  },
  {
   "cell_type": "code",
   "execution_count": 16,
   "metadata": {},
   "outputs": [],
   "source": [
    "#add list of protein\n",
    "protein = ['Roasted Chicken', 'Poached Eggs', 'Scrambled Eggs', 'Bologna,Turkey',\n",
    "           'Frankfurter, Beef', 'Ham,Sliced,Extralean','Kielbasa,Prk','Pizza W/Pepperoni'\n",
    "           ,'Hamburger W/Toppings','Hotdog, Plain','Pork','Sardines in Oil','White Tuna in Water',\n",
    "          'Splt Pea&Hamsoup','Neweng Clamchwd','New E Clamchwd,W/Mlk','Beanbacn Soup,W/Watr'  ]"
   ]
  },
  {
   "cell_type": "code",
   "execution_count": 17,
   "metadata": {},
   "outputs": [
    {
     "name": "stdout",
     "output_type": "stream",
     "text": [
      "{'Frozen Broccoli': Chosen_Frozen_Broccoli, 'Carrots,Raw': Chosen_Carrots,Raw, 'Celery, Raw': Chosen_Celery,_Raw, 'Frozen Corn': Chosen_Frozen_Corn, 'Lettuce,Iceberg,Raw': Chosen_Lettuce,Iceberg,Raw, 'Peppers, Sweet, Raw': Chosen_Peppers,_Sweet,_Raw, 'Potatoes, Baked': Chosen_Potatoes,_Baked, 'Tofu': Chosen_Tofu, 'Roasted Chicken': Chosen_Roasted_Chicken, 'Spaghetti W/ Sauce': Chosen_Spaghetti_W__Sauce, 'Tomato,Red,Ripe,Raw': Chosen_Tomato,Red,Ripe,Raw, 'Apple,Raw,W/Skin': Chosen_Apple,Raw,W_Skin, 'Banana': Chosen_Banana, 'Grapes': Chosen_Grapes, 'Kiwifruit,Raw,Fresh': Chosen_Kiwifruit,Raw,Fresh, 'Oranges': Chosen_Oranges, 'Bagels': Chosen_Bagels, 'Wheat Bread': Chosen_Wheat_Bread, 'White Bread': Chosen_White_Bread, 'Oatmeal Cookies': Chosen_Oatmeal_Cookies, 'Apple Pie': Chosen_Apple_Pie, 'Chocolate Chip Cookies': Chosen_Chocolate_Chip_Cookies, 'Butter,Regular': Chosen_Butter,Regular, 'Cheddar Cheese': Chosen_Cheddar_Cheese, '3.3% Fat,Whole Milk': Chosen_3.3%_Fat,Whole_Milk, '2% Lowfat Milk': Chosen_2%_Lowfat_Milk, 'Skim Milk': Chosen_Skim_Milk, 'Poached Eggs': Chosen_Poached_Eggs, 'Scrambled Eggs': Chosen_Scrambled_Eggs, 'Bologna,Turkey': Chosen_Bologna,Turkey, 'Frankfurter, Beef': Chosen_Frankfurter,_Beef, 'Ham,Sliced,Extralean': Chosen_Ham,Sliced,Extralean, 'Kielbasa,Prk': Chosen_Kielbasa,Prk, \"Cap'N Crunch\": Chosen_Cap'N_Crunch, 'Cheerios': Chosen_Cheerios, \"Corn Flks, Kellogg'S\": Chosen_Corn_Flks,_Kellogg'S, \"Raisin Brn, Kellg'S\": Chosen_Raisin_Brn,_Kellg'S, 'Rice Krispies': Chosen_Rice_Krispies, 'Special K': Chosen_Special_K, 'Oatmeal': Chosen_Oatmeal, 'Malt-O-Meal,Choc': Chosen_Malt_O_Meal,Choc, 'Pizza W/Pepperoni': Chosen_Pizza_W_Pepperoni, 'Taco': Chosen_Taco, 'Hamburger W/Toppings': Chosen_Hamburger_W_Toppings, 'Hotdog, Plain': Chosen_Hotdog,_Plain, 'Couscous': Chosen_Couscous, 'White Rice': Chosen_White_Rice, 'Macaroni,Ckd': Chosen_Macaroni,Ckd, 'Peanut Butter': Chosen_Peanut_Butter, 'Pork': Chosen_Pork, 'Sardines in Oil': Chosen_Sardines_in_Oil, 'White Tuna in Water': Chosen_White_Tuna_in_Water, 'Popcorn,Air-Popped': Chosen_Popcorn,Air_Popped, 'Potato Chips,Bbqflvr': Chosen_Potato_Chips,Bbqflvr, 'Pretzels': Chosen_Pretzels, 'Tortilla Chip': Chosen_Tortilla_Chip, 'Chicknoodl Soup': Chosen_Chicknoodl_Soup, 'Splt Pea&Hamsoup': Chosen_Splt_Pea&Hamsoup, 'Vegetbeef Soup': Chosen_Vegetbeef_Soup, 'Neweng Clamchwd': Chosen_Neweng_Clamchwd, 'Tomato Soup': Chosen_Tomato_Soup, 'New E Clamchwd,W/Mlk': Chosen_New_E_Clamchwd,W_Mlk, 'Crm Mshrm Soup,W/Mlk': Chosen_Crm_Mshrm_Soup,W_Mlk, 'Beanbacn Soup,W/Watr': Chosen_Beanbacn_Soup,W_Watr}\n"
     ]
    }
   ],
   "source": [
    "#add new variable\n",
    "\n",
    "#This is a binary variable to indicate whether a food was choosen or not. Choosen foods need to be 1/10 of a serving at minimum.\n",
    "chosen_var = LpVariable.dicts(\"Chosen\",foods,lowBound = 0, upBound = 1, cat='Integer')\n",
    "print(chosen_var)\n"
   ]
  },
  {
   "cell_type": "markdown",
   "metadata": {},
   "source": [
    "Since each individual food needs to be assigned a constraint we need to add atleast 2 constraints for each."
   ]
  },
  {
   "cell_type": "code",
   "execution_count": 18,
   "metadata": {},
   "outputs": [],
   "source": [
    "#Add new constraints\n",
    "\n",
    "#constraint for minimum serving. As discussed in the Office Hours we will need two constraints.\n",
    "for i in foods:\n",
    "    problem += amount_var[i] >= chosen_var[i]*0.1\n",
    "    problem += amount_var[i] <= chosen_var[i]*10000  #note - 10,000 is an arbitary number to indicate inf\n",
    "    \n",
    "#constraint for brocolli and celery. If they are chosen, their chosen_var is 1. adding both should be 1 or less.\n",
    "problem += chosen_var['Frozen Broccoli'] + chosen_var['Celery, Raw'] <= 1\n",
    "\n",
    "#constraints for 3 types of protein. List comphrension to add chosen_vars. Should be greater than or equal to 3\n",
    "problem += lpSum([chosen_var[i] for i in protein]) >= 3"
   ]
  },
  {
   "cell_type": "code",
   "execution_count": 22,
   "metadata": {},
   "outputs": [
    {
     "name": "stdout",
     "output_type": "stream",
     "text": [
      "Status: Optimal\n"
     ]
    }
   ],
   "source": [
    "problem.solve()\n",
    "print(\"Status:\", LpStatus[problem.status])"
   ]
  },
  {
   "cell_type": "code",
   "execution_count": 23,
   "metadata": {},
   "outputs": [
    {
     "name": "stdout",
     "output_type": "stream",
     "text": [
      "{'Chosen_Celery,_Raw': 1.0, 'Chosen_Kielbasa,Prk': 1.0, 'Chosen_Lettuce,Iceberg,Raw': 1.0, 'Chosen_Oranges': 1.0, 'Chosen_Peanut_Butter': 1.0, 'Chosen_Poached_Eggs': 1.0, 'Chosen_Popcorn,Air_Popped': 1.0, 'Chosen_Scrambled_Eggs': 1.0, 'Food_Celery,_Raw': 42.399358, 'Food_Kielbasa,Prk': 0.1, 'Food_Lettuce,Iceberg,Raw': 82.802586, 'Food_Oranges': 3.0771841, 'Food_Peanut_Butter': 1.9429716, 'Food_Poached_Eggs': 0.1, 'Food_Popcorn,Air_Popped': 13.223294, 'Food_Scrambled_Eggs': 0.1}\n"
     ]
    }
   ],
   "source": [
    "varsDictionary = {}\n",
    "for v in problem.variables():\n",
    "    if v.varValue > 0:\n",
    "        varsDictionary[v.name] = v.varValue\n",
    "    \n",
    "print(varsDictionary)"
   ]
  },
  {
   "cell_type": "markdown",
   "metadata": {},
   "source": [
    "This is an interesting diet for sure, which makes me want to add more constraints and see how well it does. For one, I think poached eggs and scrambled eggs kind of defeats the purpose of 3 separate proteins. We can add a constraint that is is similar to the Celery/Broccoli one. If you choose one of the eggs, you can't choose the other. Then let's see what we get."
   ]
  },
  {
   "cell_type": "code",
   "execution_count": 26,
   "metadata": {},
   "outputs": [],
   "source": [
    "problem += chosen_var['Poached Eggs'] + chosen_var['Scrambled Eggs'] <= 1"
   ]
  },
  {
   "cell_type": "code",
   "execution_count": 27,
   "metadata": {},
   "outputs": [
    {
     "name": "stdout",
     "output_type": "stream",
     "text": [
      "Status: Optimal\n",
      "{'Chosen_Bologna,Turkey': 1.0, 'Chosen_Celery,_Raw': 1.0, 'Chosen_Kielbasa,Prk': 1.0, 'Chosen_Lettuce,Iceberg,Raw': 1.0, 'Chosen_Oranges': 1.0, 'Chosen_Peanut_Butter': 1.0, 'Chosen_Poached_Eggs': 1.0, 'Chosen_Popcorn,Air_Popped': 1.0, 'Food_Bologna,Turkey': 0.1, 'Food_Celery,_Raw': 42.003189, 'Food_Kielbasa,Prk': 0.1, 'Food_Lettuce,Iceberg,Raw': 83.411008, 'Food_Oranges': 3.0862592, 'Food_Peanut_Butter': 1.9541879, 'Food_Poached_Eggs': 0.12033097, 'Food_Popcorn,Air_Popped': 13.233318}\n"
     ]
    }
   ],
   "source": [
    "problem.solve()\n",
    "print(\"Status:\", LpStatus[problem.status])\n",
    "varsDictionary = {}\n",
    "for v in problem.variables():\n",
    "    if v.varValue > 0:\n",
    "        varsDictionary[v.name] = v.varValue\n",
    "    \n",
    "print(varsDictionary)"
   ]
  },
  {
   "cell_type": "markdown",
   "metadata": {},
   "source": [
    "As expected the scrambled eggs have been removed from the optimal solution and turkey has been added."
   ]
  }
 ],
 "metadata": {
  "kernelspec": {
   "display_name": "Python 3",
   "language": "python",
   "name": "python3"
  },
  "language_info": {
   "codemirror_mode": {
    "name": "ipython",
    "version": 3
   },
   "file_extension": ".py",
   "mimetype": "text/x-python",
   "name": "python",
   "nbconvert_exporter": "python",
   "pygments_lexer": "ipython3",
   "version": "3.7.3"
  }
 },
 "nbformat": 4,
 "nbformat_minor": 2
}
