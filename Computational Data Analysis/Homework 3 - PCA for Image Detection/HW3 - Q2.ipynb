{
 "cells": [
  {
   "cell_type": "code",
   "execution_count": 480,
   "metadata": {},
   "outputs": [],
   "source": [
    "import numpy as np\n",
    "import numpy.matlib\n",
    "import pandas as pd\n",
    "import scipy.io as spio\n",
    "from scipy import linalg\n",
    "from scipy.stats import multivariate_normal as mvn\n",
    "import seaborn as sns\n",
    "import matplotlib.pyplot as plt\n",
    "from sklearn import preprocessing\n",
    "from sklearn.decomposition import PCA\n",
    "from sklearn import metrics\n",
    "from sklearn.cluster import KMeans\n",
    "from PIL import Image"
   ]
  },
  {
   "cell_type": "code",
   "execution_count": 481,
   "metadata": {},
   "outputs": [
    {
     "name": "stdout",
     "output_type": "stream",
     "text": [
      "(784, 1990)\n",
      "<class 'numpy.ndarray'>\n",
      "1990 784\n"
     ]
    }
   ],
   "source": [
    "#load data - used code from previous assignment for this section\n",
    "data = spio.loadmat('data.mat',squeeze_me=True)['data']\n",
    "print(data.shape)\n",
    "print(type(data))\n",
    "data = data.T\n",
    "#print(data.shape)\n",
    "#print(type(data))\n",
    "m,n = data.shape\n",
    "print(m,n)"
   ]
  },
  {
   "cell_type": "code",
   "execution_count": 482,
   "metadata": {},
   "outputs": [],
   "source": [
    "#Load Labels - used code from previous assignment for this section\n",
    "trueLabel = spio.loadmat('label.mat', squeeze_me=True)['trueLabel']\n",
    "#print(trueLabel.shape)\n",
    "trueLabel[trueLabel==6] = 0\n",
    "trueLabel[trueLabel==2] = 1"
   ]
  },
  {
   "cell_type": "markdown",
   "metadata": {},
   "source": [
    "## Question 2.b"
   ]
  },
  {
   "cell_type": "markdown",
   "metadata": {},
   "source": [
    "## PCA"
   ]
  },
  {
   "cell_type": "code",
   "execution_count": 483,
   "metadata": {},
   "outputs": [
    {
     "name": "stdout",
     "output_type": "stream",
     "text": [
      "(1990, 4)\n",
      "[[-5.78589802 -1.86149301 -0.32208024 -4.02489803]\n",
      " [-6.05737029 -2.32665249  0.02495306  2.19068824]\n",
      " [-4.48984179 -1.25620196  0.57603288 -2.1753182 ]\n",
      " ...\n",
      " [-5.01432062  0.05119609 -3.140957    0.34626446]\n",
      " [-9.68151301  2.11536692 -3.89177429 -1.35164814]\n",
      " [-9.86028409  3.52677095 -1.11889327  0.62470281]]\n"
     ]
    }
   ],
   "source": [
    "#source demo code\n",
    "# pca the data\n",
    "C = np.matmul(data.T, data)/m\n",
    "\n",
    "d = 4  # reduced dimension\n",
    "V,Gamma,_ = np.linalg.svd(C)\n",
    "V = V[:, :d]\n",
    "Gamma = np.diag(Gamma[:d])\n",
    "\n",
    "# project the data to the top 4 principal directions\n",
    "# y = label\n",
    "pdata = np.dot(data,V)\n",
    "print(pdata.shape)\n",
    "print(pdata)"
   ]
  },
  {
   "cell_type": "code",
   "execution_count": 484,
   "metadata": {},
   "outputs": [],
   "source": [
    "#PCA_reconstruction = "
   ]
  },
  {
   "cell_type": "code",
   "execution_count": 485,
   "metadata": {},
   "outputs": [
    {
     "name": "stdout",
     "output_type": "stream",
     "text": [
      "1990 4\n",
      "[[-2.08266666e+00 -3.66224540e+00 -2.50045898e-03  1.49985287e+00]\n",
      " [-2.30974133e+00  1.43478979e+00 -1.21325964e-01 -2.12614610e+00]\n",
      " [-1.56985434e+00 -2.72947245e+00  7.80535448e-01 -9.08916586e-02]\n",
      " ...\n",
      " [-1.74816489e-01 -1.20991508e+00 -3.10161559e+00 -2.17713880e+00]\n",
      " [ 2.45925339e+00 -3.39528989e-02 -3.83631973e+00  2.44996631e+00]\n",
      " [ 3.99730500e+00  2.04604405e+00 -1.23337365e+00  2.12530265e+00]]\n"
     ]
    }
   ],
   "source": [
    "## PCA Data\n",
    "pca = PCA(n_components=4)\n",
    "pca.fit(data)\n",
    "pdata2 = pca.transform(data)\n",
    "pdata2[0]\n",
    "\n",
    "m, n = pdata2.shape\n",
    "print(m,n)\n",
    "print(pdata2)"
   ]
  },
  {
   "cell_type": "markdown",
   "metadata": {},
   "source": [
    "## Initialization"
   ]
  },
  {
   "cell_type": "code",
   "execution_count": 486,
   "metadata": {},
   "outputs": [
    {
     "name": "stdout",
     "output_type": "stream",
     "text": [
      "[[-0.93666021  0.46093321  0.96384883  0.89571984]\n",
      " [ 0.80056574  1.20171339 -1.42869089 -0.79283023]]\n",
      "(1990, 2)\n"
     ]
    }
   ],
   "source": [
    "#source demo code\n",
    "# number of mixtures\n",
    "K = 2\n",
    "\n",
    "# random seed\n",
    "seed = 4\n",
    "\n",
    "# initialize prior\n",
    "# np.random.seed(seed)\n",
    "pi = np.random.random(K)\n",
    "pi = pi/np.sum(pi)\n",
    "#print(pi)\n",
    "\n",
    "# initial mean and covariance\n",
    "# np.random.seed(seed)\n",
    "mu = np.random.randn(K,d)\n",
    "mu_old = mu.copy()\n",
    "print(mu)\n",
    "\n",
    "sigma = []\n",
    "for ii in range(K):\n",
    "    # to ensure the covariance psd\n",
    "    # np.random.seed(seed)\n",
    "    dummy = np.random.randn(d, d)\n",
    "    sigma.append(dummy@dummy.T+np.eye(d)) #initialize covariane s1*s1T+I, S2+S2T+I\n",
    "    \n",
    "# initialize the posterior\n",
    "tau = np.full((m, K), fill_value=0.)\n",
    "print(tau.shape)\n",
    "# # parameter for countour plot\n",
    "# xrange = np.arange(-5, -5, 0.1)\n",
    "# yrange = np.arange(-5, -5, 0.1)\n",
    "\n",
    "# ####\n",
    "maxIter= 100\n",
    "tol = 1e-3\n",
    "\n",
    "plt.ion()"
   ]
  },
  {
   "cell_type": "code",
   "execution_count": 487,
   "metadata": {},
   "outputs": [
    {
     "name": "stdout",
     "output_type": "stream",
     "text": [
      "0.0\n",
      "(1990, 2)\n",
      "(4, 1990)\n"
     ]
    }
   ],
   "source": [
    "x = np.sum(tau[:,1], axis = 0)\n",
    "print(x)\n",
    "print(tau[:].shape)\n",
    "print(pdata.T.shape)"
   ]
  },
  {
   "cell_type": "code",
   "execution_count": 488,
   "metadata": {},
   "outputs": [
    {
     "name": "stdout",
     "output_type": "stream",
     "text": [
      "step 0-15651.720172122845\n",
      "step 1-35534.29268537524\n",
      "step 2-16730.786860246895\n",
      "step 3-16701.282077903703\n",
      "step 4-16679.542064863785\n",
      "step 5-16659.263831150532\n",
      "step 6-16634.671790932607\n",
      "step 7-16596.589689366436\n",
      "step 8-16535.842263954175\n",
      "step 9-16449.100461670067\n",
      "step 10-16356.310514457975\n",
      "step 11-16285.398108684658\n",
      "step 12-16233.76097593973\n",
      "step 13-16187.542795014568\n",
      "step 14-16151.274063243598\n",
      "step 15-16123.161782855062\n",
      "step 16-16100.215349168291\n",
      "step 17-16078.156998488743\n",
      "step 18-16051.362895303719\n",
      "step 19-16015.97885868341\n",
      "step 20-15975.251266938812\n",
      "step 21-15929.44656565035\n",
      "step 22-15876.666302886388\n",
      "step 23-15817.224481862124\n",
      "step 24-15753.475177275322\n",
      "step 25-15696.398958787231\n",
      "step 26-15664.364618231984\n",
      "step 27-15654.515252597856\n",
      "step 28-15652.379628648454\n",
      "step 29-15651.89065830424\n",
      "step 30-15651.765713163051\n",
      "step 31-15651.732126330218\n",
      "step 32-15651.722902182253\n",
      "training coverged\n"
     ]
    }
   ],
   "source": [
    "#Source Demo code\n",
    "\n",
    "log_likelihood = []\n",
    "iterations = []\n",
    "for ii in range(100):\n",
    "    print(\"step \" + str(ii) + str((np.sum(np.log(sum_tau)))))\n",
    "    # E-step    \n",
    "    for kk in range(K):\n",
    "        sigma_det = np.linalg.det(sigma[kk])\n",
    "        # print(sigma_det)\n",
    "        tau[:, kk] = pi[kk] * mvn.pdf(pdata, mu[kk], sigma[kk])\n",
    "        # print(tau[:,kk])\n",
    "    # normalize tau\n",
    "    sum_tau = np.sum(tau, axis=1)\n",
    "    sum_tau.shape = (m,1)    \n",
    "    tau = np.divide(tau, np.tile(sum_tau, (1, K)))\n",
    "    #print(\"tau = \" + str(tau))\n",
    "    \n",
    "    log_likelihood.append(np.sum(np.log(sum_tau))) \n",
    "    #print(np.sum(np.log(sum_tau)))\n",
    "    #^source ED discussion https://edstem.org/us/courses/25802/discussion/1822514?comment=4203876\n",
    "    iterations.append(ii)\n",
    "    # M-step\n",
    "    for kk in range(K):\n",
    "        # update prior\n",
    "        pi[kk] = np.sum(tau[:, kk])/m\n",
    "        \n",
    "        # update component mean\n",
    "        mu[kk] = pdata.T @ tau[:,kk] / np.sum(tau[:,kk], axis = 0)\n",
    "        #print(mu[kk])\n",
    "        \n",
    "        # update cov matrix\n",
    "        dummy = pdata - np.tile(mu[kk], (m,1)) # X-mu\n",
    "        sigma[kk] = dummy.T @ np.diag(tau[:,kk]) @ dummy / np.sum(tau[:,kk], axis = 0)\n",
    "        \n",
    "    # print('-----iteration---',ii)  \n",
    "    # tau_color = np.hstack((tau,np.ones((m,1))))  \n",
    "    # plt.scatter(pdata[:,0], pdata[:,1], c= tau_color)\n",
    "    # plt.axis('scaled')\n",
    "    # plt.draw()\n",
    "    # plt.pause(0.1)\n",
    "    #print(\"mu = \" + str(mu))\n",
    "    #print(\"mu_old = \" +str(mu_old))\n",
    "    if np.linalg.norm(mu-mu_old) < tol:\n",
    "        print('training coverged')\n",
    "        break\n",
    "    mu_old = mu.copy()\n",
    "    if ii==99:\n",
    "        print('max iteration reached')\n",
    "        break"
   ]
  },
  {
   "cell_type": "code",
   "execution_count": 489,
   "metadata": {},
   "outputs": [
    {
     "data": {
      "text/plain": [
       "array([3.11575952e-05, 8.01675233e-04, 5.00474287e-04, ...,\n",
       "       9.26635451e-05, 9.05518349e-05, 2.61466186e-04])"
      ]
     },
     "execution_count": 489,
     "metadata": {},
     "output_type": "execute_result"
    }
   ],
   "source": [
    "np.prod(sum_tau,axis=1)"
   ]
  },
  {
   "cell_type": "code",
   "execution_count": 490,
   "metadata": {},
   "outputs": [
    {
     "data": {
      "text/plain": [
       "[-16730.786860246895,\n",
       " -16701.282077903703,\n",
       " -16679.542064863785,\n",
       " -16659.263831150532,\n",
       " -16634.671790932607,\n",
       " -16596.589689366436,\n",
       " -16535.842263954175,\n",
       " -16449.100461670067,\n",
       " -16356.310514457975,\n",
       " -16285.398108684658,\n",
       " -16233.76097593973,\n",
       " -16187.542795014568,\n",
       " -16151.274063243598,\n",
       " -16123.161782855062,\n",
       " -16100.215349168291,\n",
       " -16078.156998488743,\n",
       " -16051.362895303719,\n",
       " -16015.97885868341,\n",
       " -15975.251266938812,\n",
       " -15929.44656565035,\n",
       " -15876.666302886388,\n",
       " -15817.224481862124,\n",
       " -15753.475177275322,\n",
       " -15696.398958787231,\n",
       " -15664.364618231984,\n",
       " -15654.515252597856,\n",
       " -15652.379628648454,\n",
       " -15651.89065830424,\n",
       " -15651.765713163051,\n",
       " -15651.732126330218,\n",
       " -15651.722902182253,\n",
       " -15651.72034307631]"
      ]
     },
     "execution_count": 490,
     "metadata": {},
     "output_type": "execute_result"
    }
   ],
   "source": [
    "#iterations[1:]\n",
    "log_likelihood[1:]"
   ]
  },
  {
   "cell_type": "code",
   "execution_count": 491,
   "metadata": {},
   "outputs": [
    {
     "data": {
      "image/png": "[encoded data removed]",
      "text/plain": [
       "<Figure size 720x720 with 1 Axes>"
      ]
     },
     "metadata": {
      "needs_background": "light"
     },
     "output_type": "display_data"
    }
   ],
   "source": [
    "# This is part of the answre to Q1-b\n",
    "# plotting the log-likelihood function versus the number of iteration\n",
    "\n",
    "fig = plt.figure(figsize=(10,10))\n",
    "ax = fig.add_subplot(111) \n",
    "ax.set_title('Log-Likelihood')\n",
    "ax.plot(iterations[1:],log_likelihood[1:])\n",
    "plt.show()"
   ]
  },
  {
   "cell_type": "markdown",
   "metadata": {},
   "source": [
    "## Question 2c"
   ]
  },
  {
   "cell_type": "markdown",
   "metadata": {},
   "source": [
    "### Mean Images"
   ]
  },
  {
   "cell_type": "code",
   "execution_count": 492,
   "metadata": {},
   "outputs": [
    {
     "name": "stdout",
     "output_type": "stream",
     "text": [
      "(2, 784)\n"
     ]
    }
   ],
   "source": [
    "#print(V.shape)\n",
    "#print(mu)\n",
    "new_mu = (np.dot(mu,V.T))\n",
    "#new_mu = new_mu.T\n",
    "print(new_mu.shape)"
   ]
  },
  {
   "cell_type": "code",
   "execution_count": 493,
   "metadata": {},
   "outputs": [
    {
     "data": {
      "text/plain": [
       "<matplotlib.image.AxesImage at 0x20441972f98>"
      ]
     },
     "execution_count": 493,
     "metadata": {},
     "output_type": "execute_result"
    },
    {
     "data": {
      "image/png": "[encoded data removed]",
      "text/plain": [
       "<Figure size 432x288 with 2 Axes>"
      ]
     },
     "metadata": {
      "needs_background": "light"
     },
     "output_type": "display_data"
    }
   ],
   "source": [
    "fig, (axis1, axis2) = plt.subplots(1, 2)\n",
    "\n",
    "img1 = new_mu[0].reshape((28,28))\n",
    "img2 = new_mu[1].reshape((28,28))\n",
    "\n",
    "\n",
    "fig.suptitle('Mean Images 6 and 2')\n",
    "axis1.imshow(np.rot90(np.fliplr(img1)), cmap=\"Greys\") #source https://www.pythonpool.com/numpy-fliplr/\n",
    "axis2.imshow(np.rot90(np.fliplr(img2)), cmap=\"Greys\")"
   ]
  },
  {
   "cell_type": "code",
   "execution_count": 494,
   "metadata": {},
   "outputs": [
    {
     "name": "stdout",
     "output_type": "stream",
     "text": [
      "(4, 4)\n",
      "[[ 3.18641782 -1.32533344 -0.32770642 -0.29552036]\n",
      " [-1.32533344  1.70270866  0.34091955  0.39374582]\n",
      " [-0.32770642  0.34091955  5.86521884  1.93494333]\n",
      " [-0.29552036  0.39374582  1.93494333  2.31931975]]\n",
      "[[ 2.96667055  0.35714668  0.269059   -0.94441422]\n",
      " [ 0.35714668  1.55205828 -0.68879824  1.26979269]\n",
      " [ 0.269059   -0.68879824  1.78345622 -1.97860671]\n",
      " [-0.94441422  1.26979269 -1.97860671  4.77582833]]\n"
     ]
    }
   ],
   "source": [
    "print(sigma[0].shape)\n",
    "print(sigma[0])\n",
    "print(sigma[1])"
   ]
  },
  {
   "cell_type": "markdown",
   "metadata": {},
   "source": [
    "### Covariance Matrix"
   ]
  },
  {
   "cell_type": "code",
   "execution_count": 495,
   "metadata": {},
   "outputs": [
    {
     "data": {
      "text/plain": [
       "<matplotlib.axes._subplots.AxesSubplot at 0x204419cb358>"
      ]
     },
     "execution_count": 495,
     "metadata": {},
     "output_type": "execute_result"
    },
    {
     "data": {
      "image/png": "[encoded data removed]",
      "text/plain": [
       "<Figure size 432x288 with 2 Axes>"
      ]
     },
     "metadata": {
      "needs_background": "light"
     },
     "output_type": "display_data"
    }
   ],
   "source": [
    "sns.heatmap(sigma[0],annot=True)"
   ]
  },
  {
   "cell_type": "code",
   "execution_count": 496,
   "metadata": {},
   "outputs": [
    {
     "data": {
      "text/plain": [
       "<matplotlib.axes._subplots.AxesSubplot at 0x20441a6d1d0>"
      ]
     },
     "execution_count": 496,
     "metadata": {},
     "output_type": "execute_result"
    },
    {
     "data": {
      "image/png": "[encoded data removed]",
      "text/plain": [
       "<Figure size 432x288 with 2 Axes>"
      ]
     },
     "metadata": {
      "needs_background": "light"
     },
     "output_type": "display_data"
    }
   ],
   "source": [
    "sns.heatmap(sigma[1],annot=True)"
   ]
  },
  {
   "cell_type": "markdown",
   "metadata": {},
   "source": [
    "### Weights"
   ]
  },
  {
   "cell_type": "code",
   "execution_count": 497,
   "metadata": {},
   "outputs": [
    {
     "name": "stdout",
     "output_type": "stream",
     "text": [
      "Component 1: 0.5132003044162703\n",
      "Component 2: 0.48679969558372965\n"
     ]
    }
   ],
   "source": [
    "print(\"Component 1: \" + str(pi[0]))\n",
    "print(\"Component 2: \" + str(pi[1]))"
   ]
  },
  {
   "cell_type": "markdown",
   "metadata": {},
   "source": [
    "## Question 2.d"
   ]
  },
  {
   "cell_type": "code",
   "execution_count": 498,
   "metadata": {},
   "outputs": [
    {
     "name": "stdout",
     "output_type": "stream",
     "text": [
      "975\n"
     ]
    }
   ],
   "source": [
    "#generate indices for max value of each image. 1 or 0\n",
    "preds = np.argmax(tau,axis=1)\n",
    "print(preds.sum())"
   ]
  },
  {
   "cell_type": "code",
   "execution_count": 499,
   "metadata": {},
   "outputs": [
    {
     "data": {
      "text/plain": [
       "1990"
      ]
     },
     "execution_count": 499,
     "metadata": {},
     "output_type": "execute_result"
    }
   ],
   "source": [
    "#confirm length\n",
    "len(preds)"
   ]
  },
  {
   "cell_type": "code",
   "execution_count": 500,
   "metadata": {},
   "outputs": [
    {
     "data": {
      "text/plain": [
       "1990"
      ]
     },
     "execution_count": 500,
     "metadata": {},
     "output_type": "execute_result"
    }
   ],
   "source": [
    "#Confirm length of labels\n",
    "len(trueLabel)"
   ]
  },
  {
   "cell_type": "code",
   "execution_count": 501,
   "metadata": {},
   "outputs": [],
   "source": [
    "CM = metrics.confusion_matrix(preds,trueLabel)\n",
    "report = metrics.classification_report(preds,trueLabel)"
   ]
  },
  {
   "cell_type": "code",
   "execution_count": 502,
   "metadata": {},
   "outputs": [
    {
     "name": "stdout",
     "output_type": "stream",
     "text": [
      "[[949  66]\n",
      " [  9 966]]\n"
     ]
    }
   ],
   "source": [
    "print(CM)"
   ]
  },
  {
   "cell_type": "code",
   "execution_count": 503,
   "metadata": {},
   "outputs": [
    {
     "name": "stdout",
     "output_type": "stream",
     "text": [
      "              precision    recall  f1-score   support\n",
      "\n",
      "           0       0.99      0.93      0.96      1015\n",
      "           1       0.94      0.99      0.96       975\n",
      "\n",
      "    accuracy                           0.96      1990\n",
      "   macro avg       0.96      0.96      0.96      1990\n",
      "weighted avg       0.96      0.96      0.96      1990\n",
      "\n"
     ]
    }
   ],
   "source": [
    "print(report)"
   ]
  },
  {
   "cell_type": "code",
   "execution_count": 504,
   "metadata": {},
   "outputs": [],
   "source": [
    "#use k-means package\n",
    "kmeans = KMeans(n_clusters=2, random_state=1).fit(data)\n",
    "k_preds   = kmeans.labels_"
   ]
  },
  {
   "cell_type": "code",
   "execution_count": 505,
   "metadata": {},
   "outputs": [
    {
     "name": "stdout",
     "output_type": "stream",
     "text": [
      "<class 'numpy.ndarray'>\n"
     ]
    }
   ],
   "source": [
    "print(type(k_preds))"
   ]
  },
  {
   "cell_type": "code",
   "execution_count": 506,
   "metadata": {},
   "outputs": [
    {
     "data": {
      "text/plain": [
       "1044"
      ]
     },
     "execution_count": 506,
     "metadata": {},
     "output_type": "execute_result"
    }
   ],
   "source": [
    "k_preds_rev = np.where((k_preds==0)|(k_preds==1), k_preds^1, k_preds)\n",
    "k_preds_rev.sum()"
   ]
  },
  {
   "cell_type": "code",
   "execution_count": 507,
   "metadata": {},
   "outputs": [],
   "source": [
    "CM = metrics.confusion_matrix(k_preds_rev,trueLabel)\n",
    "report = metrics.classification_report(k_preds_rev,trueLabel)"
   ]
  },
  {
   "cell_type": "code",
   "execution_count": 508,
   "metadata": {},
   "outputs": [
    {
     "name": "stdout",
     "output_type": "stream",
     "text": [
      "[[890  56]\n",
      " [ 68 976]]\n",
      "              precision    recall  f1-score   support\n",
      "\n",
      "           0       0.93      0.94      0.93       946\n",
      "           1       0.95      0.93      0.94      1044\n",
      "\n",
      "    accuracy                           0.94      1990\n",
      "   macro avg       0.94      0.94      0.94      1990\n",
      "weighted avg       0.94      0.94      0.94      1990\n",
      "\n"
     ]
    }
   ],
   "source": [
    "print(CM)\n",
    "print(report)"
   ]
  },
  {
   "cell_type": "code",
   "execution_count": null,
   "metadata": {},
   "outputs": [],
   "source": []
  }
 ],
 "metadata": {
  "kernelspec": {
   "display_name": "Python 3",
   "language": "python",
   "name": "python3"
  },
  "language_info": {
   "codemirror_mode": {
    "name": "ipython",
    "version": 3
   },
   "file_extension": ".py",
   "mimetype": "text/x-python",
   "name": "python",
   "nbconvert_exporter": "python",
   "pygments_lexer": "ipython3",
   "version": "3.7.3"
  }
 },
 "nbformat": 4,
 "nbformat_minor": 2
}
